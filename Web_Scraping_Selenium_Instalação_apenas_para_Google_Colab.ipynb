{
 "cells": [
  {
   "cell_type": "code",
   "execution_count": 1,
   "id": "681ede7d-55d3-4377-a2e1-6d9a499a12d7",
   "metadata": {},
   "outputs": [
    {
     "name": "stdout",
     "output_type": "stream",
     "text": [
      "Requirement already satisfied: Selenium in c:\\users\\rafae\\anaconda3\\lib\\site-packages (4.24.0)\n",
      "Requirement already satisfied: urllib3<3,>=1.26 in c:\\users\\rafae\\anaconda3\\lib\\site-packages (from urllib3[socks]<3,>=1.26->Selenium) (2.2.2)\n",
      "Requirement already satisfied: trio~=0.17 in c:\\users\\rafae\\anaconda3\\lib\\site-packages (from Selenium) (0.26.2)\n",
      "Requirement already satisfied: trio-websocket~=0.9 in c:\\users\\rafae\\anaconda3\\lib\\site-packages (from Selenium) (0.11.1)\n",
      "Requirement already satisfied: certifi>=2021.10.8 in c:\\users\\rafae\\anaconda3\\lib\\site-packages (from Selenium) (2024.6.2)\n",
      "Requirement already satisfied: typing_extensions~=4.9 in c:\\users\\rafae\\anaconda3\\lib\\site-packages (from Selenium) (4.11.0)\n",
      "Requirement already satisfied: websocket-client~=1.8 in c:\\users\\rafae\\anaconda3\\lib\\site-packages (from Selenium) (1.8.0)\n",
      "Requirement already satisfied: attrs>=23.2.0 in c:\\users\\rafae\\anaconda3\\lib\\site-packages (from trio~=0.17->Selenium) (24.2.0)\n",
      "Requirement already satisfied: sortedcontainers in c:\\users\\rafae\\anaconda3\\lib\\site-packages (from trio~=0.17->Selenium) (2.4.0)\n",
      "Requirement already satisfied: idna in c:\\users\\rafae\\anaconda3\\lib\\site-packages (from trio~=0.17->Selenium) (3.7)\n",
      "Requirement already satisfied: outcome in c:\\users\\rafae\\anaconda3\\lib\\site-packages (from trio~=0.17->Selenium) (1.3.0.post0)\n",
      "Requirement already satisfied: sniffio>=1.3.0 in c:\\users\\rafae\\anaconda3\\lib\\site-packages (from trio~=0.17->Selenium) (1.3.0)\n",
      "Requirement already satisfied: cffi>=1.14 in c:\\users\\rafae\\anaconda3\\lib\\site-packages (from trio~=0.17->Selenium) (1.16.0)\n",
      "Requirement already satisfied: wsproto>=0.14 in c:\\users\\rafae\\anaconda3\\lib\\site-packages (from trio-websocket~=0.9->Selenium) (1.2.0)\n",
      "Requirement already satisfied: pysocks!=1.5.7,<2.0,>=1.5.6 in c:\\users\\rafae\\anaconda3\\lib\\site-packages (from urllib3[socks]<3,>=1.26->Selenium) (1.7.1)\n",
      "Requirement already satisfied: pycparser in c:\\users\\rafae\\anaconda3\\lib\\site-packages (from cffi>=1.14->trio~=0.17->Selenium) (2.21)\n",
      "Requirement already satisfied: h11<1,>=0.9.0 in c:\\users\\rafae\\anaconda3\\lib\\site-packages (from wsproto>=0.14->trio-websocket~=0.9->Selenium) (0.14.0)\n"
     ]
    },
    {
     "name": "stderr",
     "output_type": "stream",
     "text": [
      "'apt-get' nÆo ‚ reconhecido como um comando interno\n",
      "ou externo, um programa oper vel ou um arquivo em lotes.\n",
      "'apt' nÆo ‚ reconhecido como um comando interno\n",
      "ou externo, um programa oper vel ou um arquivo em lotes.\n",
      "'cp' nÆo ‚ reconhecido como um comando interno\n",
      "ou externo, um programa oper vel ou um arquivo em lotes.\n"
     ]
    }
   ],
   "source": [
    "!pip install Selenium\n",
    "!apt-get update # to update ubuntu to correctly run apt install\n",
    "!apt install chromium-chromedriver\n",
    "!cp /usr/lib/chromium-browser/chromedriver /usr/bin"
   ]
  },
  {
   "cell_type": "code",
   "execution_count": null,
   "id": "41b820b3-b30f-405e-b6d5-da44defe78f3",
   "metadata": {},
   "outputs": [],
   "source": [
    "import sys\n",
    "sys.path.insert(0,'/usr/lib/chromium-browser/chromedriver')\n",
    "\n",
    "from selenium import webdriver\n",
    "chrome_options = webdriver.ChromeOptions()\n",
    "chrome_options.add_argument('--headless')\n",
    "chrome_options.add_argument('--no-sandbox')\n",
    "chrome_options.add_argument('--disable-dev-shm-usage')\n",
    "wd = webdriver.Chrome('chromedriver',options=chrome_options)\n",
    "\n",
    "wd.get(\"https://www.cps.sp.gov.br\")\n",
    "print(wd.title)"
   ]
  }
 ],
 "metadata": {
  "kernelspec": {
   "display_name": "Python 3 (ipykernel)",
   "language": "python",
   "name": "python3"
  },
  "language_info": {
   "codemirror_mode": {
    "name": "ipython",
    "version": 3
   },
   "file_extension": ".py",
   "mimetype": "text/x-python",
   "name": "python",
   "nbconvert_exporter": "python",
   "pygments_lexer": "ipython3",
   "version": "3.12.4"
  }
 },
 "nbformat": 4,
 "nbformat_minor": 5
}
