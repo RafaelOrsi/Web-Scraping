{
 "cells": [
  {
   "cell_type": "markdown",
   "id": "7240f6b8-11c3-4bfd-9103-f6224d8e8874",
   "metadata": {},
   "source": [
    "## Utilizando Web-Scraping para levantar a literatura"
   ]
  },
  {
   "cell_type": "markdown",
   "id": "e1888c26-7e2d-45de-b11a-631470a79311",
   "metadata": {},
   "source": [
    "#### Passo 1: instalar bibliotecas"
   ]
  },
  {
   "cell_type": "code",
   "execution_count": null,
   "id": "9284d53d-5191-4bd5-a4f5-52f62a9d8e5c",
   "metadata": {},
   "outputs": [],
   "source": [
    "# Remova o comentário(#) da linha abaixo caso esteja executando este script pela primeira vez\n",
    "#!pip install requests\n",
    "#!pip install beautifulsoup4"
   ]
  },
  {
   "cell_type": "markdown",
   "id": "ac61bf69-5175-4db4-8d63-dcd4e3565549",
   "metadata": {},
   "source": [
    "#### Passo 2: Importar bibliotecas"
   ]
  },
  {
   "cell_type": "code",
   "execution_count": null,
   "id": "85835e40-e721-4d5f-8de7-dfed08a3d98c",
   "metadata": {},
   "outputs": [],
   "source": [
    "import requests\n",
    "from bs4 import BeautifulSoup"
   ]
  },
  {
   "cell_type": "markdown",
   "id": "83c1cbb8-2bd8-4505-9d27-48919887c2ac",
   "metadata": {},
   "source": [
    "#### Passo 3: Formatar link de busca"
   ]
  },
  {
   "cell_type": "code",
   "execution_count": null,
   "id": "7db42294-69a9-452a-bb41-c9ee18cc5adf",
   "metadata": {},
   "outputs": [],
   "source": [
    "# Copie o modelo do link de busca\n",
    "url_busca = 'https://www-periodicos-capes-gov-br.ezl.periodicos.capes.gov.br/index.php/acervo/buscador.html?q='\n",
    "\n",
    "# Informe a palvra chave\n",
    "palavra_chave = 'Irlen Syndrome'\n",
    "\n",
    "# Formata a palavra chave conforme modelo do site de busca\n",
    "palavra_chave = palavra_chave.replace(' ','+')\n",
    "\n",
    "# Formata link\n",
    "link = url_busca+palavra_chave\n",
    "print(link)"
   ]
  },
  {
   "cell_type": "markdown",
   "id": "1475c782-23b4-4dee-a926-aa6a43681eea",
   "metadata": {},
   "source": [
    "#### Passo 4: Obter informações do link"
   ]
  },
  {
   "cell_type": "code",
   "execution_count": null,
   "id": "2bd8fe8a-bb36-47a9-a399-e7b35aebc49e",
   "metadata": {},
   "outputs": [],
   "source": [
    "response = requests.get(link)\n",
    "soup = BeautifulSoup(response.content, 'html.parser')"
   ]
  },
  {
   "cell_type": "markdown",
   "id": "e2fdf321-03c0-49d3-bdd7-7685c34e0735",
   "metadata": {},
   "source": [
    "#### Passo 5: Encontrar elementos"
   ]
  },
  {
   "cell_type": "code",
   "execution_count": null,
   "id": "760b3156-e7b7-4836-a295-19684b56c789",
   "metadata": {},
   "outputs": [],
   "source": [
    "# Encontrar por id\n",
    "resultados = soup.find('div', attrs={'id': 'resultados'}).find_all('h6')                    \n",
    "print(resultados)"
   ]
  },
  {
   "cell_type": "code",
   "execution_count": null,
   "id": "3b2d205a-c2a7-4d58-bfd4-f64cffd3fd21",
   "metadata": {},
   "outputs": [],
   "source": [
    "# Título\n",
    "titulo = resultados[0].find('a').text\n",
    "print('Título:',titulo)"
   ]
  },
  {
   "cell_type": "code",
   "execution_count": null,
   "id": "7da26bc0-7641-48fc-ae11-c5ad2b8edbcf",
   "metadata": {},
   "outputs": [],
   "source": [
    "# Link\n",
    "link_ext = resultados[0].find('a')['href']\n",
    "url_site = 'https://www-periodicos-capes-gov-br.ezl.periodicos.capes.gov.br'\n",
    "link = url_site+link_ext\n",
    "\n",
    "print('Link:',link)"
   ]
  },
  {
   "cell_type": "markdown",
   "id": "28f20aba-60dd-411b-9b60-3bea21fd568e",
   "metadata": {},
   "source": [
    "#### Passo 6: Armazenar dados"
   ]
  },
  {
   "cell_type": "code",
   "execution_count": null,
   "id": "7f4d624f-1328-45c6-a284-bb99fd638516",
   "metadata": {},
   "outputs": [],
   "source": [
    "# Cria uma lista vazia para guardar dados\n",
    "lista_de_titulos = []\n",
    "lista_de_links = []\n",
    "\n",
    "# Cria laço de repetição para filtrar todos os dados\n",
    "for i in resultados:\n",
    "    lista_de_titulos.append(i.find('a').text)\n",
    "    lista_de_links.append(url_site+i.find('a')['href'])"
   ]
  },
  {
   "cell_type": "markdown",
   "id": "38c49211-d52e-4246-a7ba-d69674e70823",
   "metadata": {},
   "source": [
    "#### Passo 7: Visualizar listas"
   ]
  },
  {
   "cell_type": "code",
   "execution_count": null,
   "id": "de0046ce-7989-42ed-96b9-09cd57f1bbd9",
   "metadata": {},
   "outputs": [],
   "source": [
    "lista_de_titulos"
   ]
  },
  {
   "cell_type": "code",
   "execution_count": null,
   "id": "cd6b7abe-33f4-4b82-86e7-fd501512836b",
   "metadata": {},
   "outputs": [],
   "source": [
    "lista_de_links"
   ]
  },
  {
   "cell_type": "markdown",
   "id": "8dd81308-b254-4e97-96ac-db731f363b35",
   "metadata": {},
   "source": [
    "#### Passo 8: Organizar tabelas e salvar"
   ]
  },
  {
   "cell_type": "code",
   "execution_count": null,
   "id": "aeb3d21c-dd4a-4db8-8457-e3e17d291a16",
   "metadata": {},
   "outputs": [],
   "source": [
    "# Importar biblioteca Pandas para criar DataFrames\n",
    "import pandas as pd"
   ]
  },
  {
   "cell_type": "code",
   "execution_count": null,
   "id": "d21e06ef-bfde-4bba-956b-6c09b9c2aa05",
   "metadata": {},
   "outputs": [],
   "source": [
    "# Transforma arrays em DataFrame\n",
    "df = pd.DataFrame({'Títulos': lista_de_titulos, 'Link': lista_de_links})\n",
    "\n",
    "# Salvar DataFrame\n",
    "df.to_excel('Levantamento_da_Literatura_Soup.xlsx')"
   ]
  },
  {
   "cell_type": "code",
   "execution_count": null,
   "id": "d7e9f193-b89f-4b36-a0bd-24a3bf623315",
   "metadata": {},
   "outputs": [],
   "source": [
    "# Visualizar DataFrame\n",
    "df.head()"
   ]
  },
  {
   "cell_type": "markdown",
   "id": "43d5d274-da6e-4d80-8162-c4aff31654d2",
   "metadata": {},
   "source": [
    "#### Exercício: Extrair as demais informações abaixo\n",
    "- Título\n",
    "- Ano\n",
    "- Editora\n",
    "- Volume\n",
    "- Edição\n",
    "- Idioma\n",
    "- DOI\n",
    "- ISSN\n",
    "- Autores\n",
    "- Tópico(s)\n",
    "- Resumo\n",
    "- Link"
   ]
  },
  {
   "cell_type": "markdown",
   "id": "836fbc1b-dbd4-4315-8212-d45c7919eef2",
   "metadata": {},
   "source": [
    "#### Tentativa de resposta"
   ]
  },
  {
   "cell_type": "code",
   "execution_count": null,
   "id": "8ffba232-0c22-4b4b-8599-5ef1da911284",
   "metadata": {},
   "outputs": [],
   "source": [
    "# Acessar site\n",
    "response = requests.get(lista_de_links[0])\n",
    "# Criar objeto BeautifulSoup\n",
    "soup = BeautifulSoup(response.content, 'html.parser')\n",
    "# Encontra título\n",
    "resultados = soup.find('h5', {'id':'item-titulo'})"
   ]
  },
  {
   "cell_type": "code",
   "execution_count": null,
   "id": "9bceffd3-e990-4796-acd8-31eef9125dba",
   "metadata": {},
   "outputs": [],
   "source": [
    "# Visualizar tag com informações sobre o título\n",
    "resultados"
   ]
  },
  {
   "cell_type": "code",
   "execution_count": null,
   "id": "e481d05f-2447-49ec-888e-12e480d6e6f8",
   "metadata": {},
   "outputs": [],
   "source": [
    "# Visualizar informações sobre o título\n",
    "resultados.text"
   ]
  },
  {
   "cell_type": "markdown",
   "id": "9916001e-2acc-407e-8f63-5f9eee46568a",
   "metadata": {},
   "source": [
    "# Como resolver esse problema ???"
   ]
  }
 ],
 "metadata": {
  "kernelspec": {
   "display_name": "Python 3 (ipykernel)",
   "language": "python",
   "name": "python3"
  },
  "language_info": {
   "codemirror_mode": {
    "name": "ipython",
    "version": 3
   },
   "file_extension": ".py",
   "mimetype": "text/x-python",
   "name": "python",
   "nbconvert_exporter": "python",
   "pygments_lexer": "ipython3",
   "version": "3.12.4"
  }
 },
 "nbformat": 4,
 "nbformat_minor": 5
}
