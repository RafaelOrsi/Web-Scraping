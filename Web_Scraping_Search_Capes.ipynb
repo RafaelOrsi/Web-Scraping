{
 "cells": [
  {
   "cell_type": "markdown",
   "id": "7240f6b8-11c3-4bfd-9103-f6224d8e8874",
   "metadata": {},
   "source": [
    "## Utilizando Web-Scraping para levantar a literatura"
   ]
  },
  {
   "cell_type": "markdown",
   "id": "e1888c26-7e2d-45de-b11a-631470a79311",
   "metadata": {},
   "source": [
    "#### Passo 1: instalar bibliotecas"
   ]
  },
  {
   "cell_type": "code",
   "execution_count": 50,
   "id": "9284d53d-5191-4bd5-a4f5-52f62a9d8e5c",
   "metadata": {},
   "outputs": [],
   "source": [
    "# Remova o comentário(#) da linha abaixo caso esteja executando este script pela primeira vez\n",
    "#!pip install requests\n",
    "#!pip install beautifulsoup4"
   ]
  },
  {
   "cell_type": "markdown",
   "id": "ac61bf69-5175-4db4-8d63-dcd4e3565549",
   "metadata": {},
   "source": [
    "#### Passo 2: Importar bibliotecas"
   ]
  },
  {
   "cell_type": "code",
   "execution_count": 1,
   "id": "85835e40-e721-4d5f-8de7-dfed08a3d98c",
   "metadata": {},
   "outputs": [],
   "source": [
    "import requests\n",
    "from bs4 import BeautifulSoup"
   ]
  },
  {
   "cell_type": "markdown",
   "id": "83c1cbb8-2bd8-4505-9d27-48919887c2ac",
   "metadata": {},
   "source": [
    "#### Passo 3: Formatar link de busca"
   ]
  },
  {
   "cell_type": "code",
   "execution_count": 2,
   "id": "7db42294-69a9-452a-bb41-c9ee18cc5adf",
   "metadata": {},
   "outputs": [
    {
     "name": "stdout",
     "output_type": "stream",
     "text": [
      "https://www-periodicos-capes-gov-br.ezl.periodicos.capes.gov.br/index.php/acervo/buscador.html?q=Irlen+Syndrome\n"
     ]
    }
   ],
   "source": [
    "# Copie o modelo do link de busca\n",
    "url_busca = 'https://www-periodicos-capes-gov-br.ezl.periodicos.capes.gov.br/index.php/acervo/buscador.html?q='\n",
    "\n",
    "# Informe a palvra chave\n",
    "palavra_chave = 'Irlen Syndrome'\n",
    "\n",
    "# Formata a palavra chave conforme modelo do site de busca\n",
    "palavra_chave = palavra_chave.replace(' ','+')\n",
    "\n",
    "# Formata link\n",
    "link = url_busca+palavra_chave\n",
    "print(link)"
   ]
  },
  {
   "cell_type": "markdown",
   "id": "1475c782-23b4-4dee-a926-aa6a43681eea",
   "metadata": {},
   "source": [
    "#### Passo 4: Obter informações do link"
   ]
  },
  {
   "cell_type": "code",
   "execution_count": 3,
   "id": "2bd8fe8a-bb36-47a9-a399-e7b35aebc49e",
   "metadata": {},
   "outputs": [],
   "source": [
    "response = requests.get(link)\n",
    "site = BeautifulSoup(response.content, 'html.parser')"
   ]
  },
  {
   "cell_type": "markdown",
   "id": "e2fdf321-03c0-49d3-bdd7-7685c34e0735",
   "metadata": {},
   "source": [
    "#### Passo 5: Encontrar elementos"
   ]
  },
  {
   "cell_type": "code",
   "execution_count": 4,
   "id": "760b3156-e7b7-4836-a295-19684b56c789",
   "metadata": {},
   "outputs": [
    {
     "name": "stdout",
     "output_type": "stream",
     "text": [
      "[<h6>\n",
      "<span class=\"text-muted titulo-busca-nun mr-2\"><strong>1</strong></span>\n",
      "<a class=\"titulo-busca\" href=\"/index.php/acervo/buscador.html?task=detalhes&amp;source=&amp;id=W2023931792\" type=\"button\">Optometric correlates of Meares-<b>Irlen</b> <b>Syndrome</b>: a matched group study</a>\n",
      "</h6>, <h6>\n",
      "<span class=\"text-muted titulo-busca-nun mr-2\"><strong>2</strong></span>\n",
      "<a class=\"titulo-busca\" href=\"/index.php/acervo/buscador.html?task=detalhes&amp;source=&amp;id=W1978377520\" type=\"button\">The need for optometric investigation in suspected Meares–<b>Irlen</b> <b>syndrome</b> or visual stress</a>\n",
      "</h6>, <h6>\n",
      "<span class=\"text-muted titulo-busca-nun mr-2\"><strong>3</strong></span>\n",
      "<a class=\"titulo-busca\" href=\"/index.php/acervo/buscador.html?task=detalhes&amp;source=&amp;id=W2108805797\" type=\"button\">A Biochemical Analysis of People with Chronic Fatigue Who Have <b>Irlen</b> <b>Syndrome</b>: Speculation concerning Immune System Dysfunction</a>\n",
      "</h6>, <h6>\n",
      "<span class=\"text-muted titulo-busca-nun mr-2\"><strong>4</strong></span>\n",
      "<a class=\"titulo-busca\" href=\"/index.php/acervo/buscador.html?task=detalhes&amp;source=&amp;id=W2159291981\" type=\"button\"><b>Irlen</b> Colored Overlays Do not Alleviate Reading Difficulties</a>\n",
      "</h6>, <h6>\n",
      "<span class=\"text-muted titulo-busca-nun mr-2\"><strong>5</strong></span>\n",
      "<a class=\"titulo-busca\" href=\"/index.php/acervo/buscador.html?task=detalhes&amp;source=&amp;id=W2083171763\" type=\"button\">Functional Magnetic Resonance Imaging Findings in Meares-<b>Irlen</b> <b>Syndrome</b>: A Pilot Sudy</a>\n",
      "</h6>, <h6>\n",
      "<span class=\"text-muted titulo-busca-nun mr-2\"><strong>6</strong></span>\n",
      "<a class=\"titulo-busca\" href=\"/index.php/acervo/buscador.html?task=detalhes&amp;source=&amp;id=W2011371458\" type=\"button\">The interpretation of emotion from facial expressions for children with a visual sub‐type of dyslexia</a>\n",
      "</h6>, <h6>\n",
      "<span class=\"text-muted titulo-busca-nun mr-2\"><strong>7</strong></span>\n",
      "<a class=\"titulo-busca\" href=\"/index.php/acervo/buscador.html?task=detalhes&amp;source=&amp;id=W2126750132\" type=\"button\">The Familial Incidence of Symptoms of Scotopic Sensitivity/<b>Irlen</b> <b>Syndrome</b>: Comparison of Referred and Mass-Screened Groups</a>\n",
      "</h6>, <h6>\n",
      "<span class=\"text-muted titulo-busca-nun mr-2\"><strong>8</strong></span>\n",
      "<a class=\"titulo-busca\" href=\"/index.php/acervo/buscador.html?task=detalhes&amp;source=&amp;id=W2061139619\" type=\"button\">The Familial Incidence of Symptoms of Scotopic Sensitivity/<b>Irlen</b> <b>Syndrome</b></a>\n",
      "</h6>, <h6>\n",
      "<span class=\"text-muted titulo-busca-nun mr-2\"><strong>9</strong></span>\n",
      "<a class=\"titulo-busca\" href=\"/index.php/acervo/buscador.html?task=detalhes&amp;source=&amp;id=W2074912580\" type=\"button\">A preliminary investigation into the aetiology of Meares–<b>Irlen</b> <b>syndrome</b></a>\n",
      "</h6>, <h6>\n",
      "<span class=\"text-muted titulo-busca-nun mr-2\"><strong>10</strong></span>\n",
      "<a class=\"titulo-busca\" href=\"/index.php/acervo/buscador.html?task=detalhes&amp;source=&amp;id=W2068344116\" type=\"button\">A Prospective Genetic Marker of the Visual-Perception Disorder Meares-<b>Irlen</b> <b>Syndrome</b></a>\n",
      "</h6>, <h6>\n",
      "<span class=\"text-muted titulo-busca-nun mr-2\"><strong>11</strong></span>\n",
      "<a class=\"titulo-busca\" href=\"/index.php/acervo/buscador.html?task=detalhes&amp;source=&amp;id=W2125856129\" type=\"button\">Plasma Cholesterol Levels and <b>Irlen</b> <b>Syndrome</b>: Preliminary Study of 10- to 17-Yr.-Old Students</a>\n",
      "</h6>, <h6>\n",
      "<span class=\"text-muted titulo-busca-nun mr-2\"><strong>12</strong></span>\n",
      "<a class=\"titulo-busca\" href=\"/index.php/acervo/buscador.html?task=detalhes&amp;source=&amp;id=W2928952048\" type=\"button\"><b>Irlen</b> <b>syndrome</b>: systematic review and level of evidence analysis</a>\n",
      "</h6>, <h6>\n",
      "<span class=\"text-muted titulo-busca-nun mr-2\"><strong>13</strong></span>\n",
      "<a class=\"titulo-busca\" href=\"/index.php/acervo/buscador.html?task=detalhes&amp;source=&amp;id=W2980682056\" type=\"button\">A review of the management of 323 consecutive patients seen in a specific learning difficulties clinic</a>\n",
      "</h6>, <h6>\n",
      "<span class=\"text-muted titulo-busca-nun mr-2\"><strong>14</strong></span>\n",
      "<a class=\"titulo-busca\" href=\"/index.php/acervo/buscador.html?task=detalhes&amp;source=&amp;id=W2121217940\" type=\"button\">A review of the management of 323 consecutive patients seen in a specific learning difficulties clinic</a>\n",
      "</h6>, <h6>\n",
      "<span class=\"text-muted titulo-busca-nun mr-2\"><strong>15</strong></span>\n",
      "<a class=\"titulo-busca\" href=\"/index.php/acervo/buscador.html?task=detalhes&amp;source=&amp;id=W2134149701\" type=\"button\">The relationship between dyslexia and Meares‐<b>Irlen</b> <b>Syndrome</b></a>\n",
      "</h6>, <h6>\n",
      "<span class=\"text-muted titulo-busca-nun mr-2\"><strong>16</strong></span>\n",
      "<a class=\"titulo-busca\" href=\"/index.php/acervo/buscador.html?task=detalhes&amp;source=&amp;id=W2154884410\" type=\"button\">The effect of coloured filters on the rate of reading in an adult student population</a>\n",
      "</h6>, <h6>\n",
      "<span class=\"text-muted titulo-busca-nun mr-2\"><strong>17</strong></span>\n",
      "<a class=\"titulo-busca\" href=\"/index.php/acervo/buscador.html?task=detalhes&amp;source=&amp;id=W2072112001\" type=\"button\">Understanding the causal mechanisms of visual processing problems: A possible biochemical basis for <b>Irlen</b> <b>syndrome</b>?</a>\n",
      "</h6>, <h6>\n",
      "<span class=\"text-muted titulo-busca-nun mr-2\"><strong>18</strong></span>\n",
      "<a class=\"titulo-busca\" href=\"/index.php/acervo/buscador.html?task=detalhes&amp;source=&amp;id=W2158681746\" type=\"button\">Visual processing characteristics of children with Meares–<b>Irlen</b> <b>syndrome</b></a>\n",
      "</h6>, <h6>\n",
      "<span class=\"text-muted titulo-busca-nun mr-2\"><strong>19</strong></span>\n",
      "<a class=\"titulo-busca\" href=\"/index.php/acervo/buscador.html?task=detalhes&amp;source=&amp;id=W2011191986\" type=\"button\">Colors, colored overlays, and reading skills</a>\n",
      "</h6>, <h6>\n",
      "<span class=\"text-muted titulo-busca-nun mr-2\"><strong>20</strong></span>\n",
      "<a class=\"titulo-busca\" href=\"/index.php/acervo/buscador.html?task=detalhes&amp;source=&amp;id=W2046640312\" type=\"button\">Screening for dyslexia, dyspraxia and Meares‐<b>Irlen</b> <b>syndrome</b> in higher education</a>\n",
      "</h6>, <h6>\n",
      "<span class=\"text-muted titulo-busca-nun mr-2\"><strong>21</strong></span>\n",
      "<a class=\"titulo-busca\" href=\"/index.php/acervo/buscador.html?task=detalhes&amp;source=&amp;id=W2088986329\" type=\"button\">Effect of Pattern Glare and Colored Overlays on a Simulated-Reading Task in Dyslexics and Normal Readers</a>\n",
      "</h6>, <h6>\n",
      "<span class=\"text-muted titulo-busca-nun mr-2\"><strong>22</strong></span>\n",
      "<a class=\"titulo-busca\" href=\"/index.php/acervo/buscador.html?task=detalhes&amp;source=&amp;id=W1971559477\" type=\"button\">The Interpretation of Emotion from Facial Expression for Children with Visual Processing Problems</a>\n",
      "</h6>, <h6>\n",
      "<span class=\"text-muted titulo-busca-nun mr-2\"><strong>23</strong></span>\n",
      "<a class=\"titulo-busca\" href=\"/index.php/acervo/buscador.html?task=detalhes&amp;source=&amp;id=W2025394008\" type=\"button\">Dyslexia: a review of two theories</a>\n",
      "</h6>, <h6>\n",
      "<span class=\"text-muted titulo-busca-nun mr-2\"><strong>24</strong></span>\n",
      "<a class=\"titulo-busca\" href=\"/index.php/acervo/buscador.html?task=detalhes&amp;source=&amp;id=W2022244193\" type=\"button\"><b>Irlen</b> Colored Filters in the Classroom: A 1‐Year Follow‐Up</a>\n",
      "</h6>, <h6>\n",
      "<span class=\"text-muted titulo-busca-nun mr-2\"><strong>25</strong></span>\n",
      "<a class=\"titulo-busca\" href=\"/index.php/acervo/buscador.html?task=detalhes&amp;source=&amp;id=W1977942004\" type=\"button\">Visual stress in adults with and without dyslexia</a>\n",
      "</h6>, <h6>\n",
      "<span class=\"text-muted titulo-busca-nun mr-2\"><strong>26</strong></span>\n",
      "<a class=\"titulo-busca\" href=\"/index.php/acervo/buscador.html?task=detalhes&amp;source=&amp;id=W1972758414\" type=\"button\">The Pattern Glare Test: a review and determination of normative values</a>\n",
      "</h6>, <h6>\n",
      "<span class=\"text-muted titulo-busca-nun mr-2\"><strong>27</strong></span>\n",
      "<a class=\"titulo-busca\" href=\"/index.php/acervo/buscador.html?task=detalhes&amp;source=&amp;id=W2026495275\" type=\"button\">Scotopic Sensitivity/<b>Irlen</b> <b>Syndrome</b> and the Use of Coloured Filters: A Long-Term Placebo Controlled and Masked Study of Reading Achievement and Perception of Ability</a>\n",
      "</h6>, <h6>\n",
      "<span class=\"text-muted titulo-busca-nun mr-2\"><strong>28</strong></span>\n",
      "<a class=\"titulo-busca\" href=\"/index.php/acervo/buscador.html?task=detalhes&amp;source=&amp;id=W2043975263\" type=\"button\">The Effect of Colored Filters in Patients with Meares-<b>Irlen</b> <b>Syndrome</b></a>\n",
      "</h6>, <h6>\n",
      "<span class=\"text-muted titulo-busca-nun mr-2\"><strong>29</strong></span>\n",
      "<a class=\"titulo-busca\" href=\"/index.php/acervo/buscador.html?task=detalhes&amp;source=&amp;id=W2060137295\" type=\"button\">A Functional Neuroimaging Case Study of Meares–<b>Irlen</b> <b>Syndrome</b>/Visual Stress (MISViS)</a>\n",
      "</h6>, <h6>\n",
      "<span class=\"text-muted titulo-busca-nun mr-2\"><strong>30</strong></span>\n",
      "<a class=\"titulo-busca\" href=\"/index.php/acervo/buscador.html?task=detalhes&amp;source=&amp;id=W4245104546\" type=\"button\">Optometric correlates of Meares—<b>Irlen</b> <b>Syndrome</b>: a matched group study</a>\n",
      "</h6>]\n"
     ]
    }
   ],
   "source": [
    "# Encontrar por id\n",
    "resultados = site.find('div', attrs={'id': 'resultados'}).find_all('h6')                    \n",
    "print(resultados)"
   ]
  },
  {
   "cell_type": "code",
   "execution_count": 5,
   "id": "3b2d205a-c2a7-4d58-bfd4-f64cffd3fd21",
   "metadata": {},
   "outputs": [
    {
     "name": "stdout",
     "output_type": "stream",
     "text": [
      "Título: Optometric correlates of Meares-Irlen Syndrome: a matched group study\n"
     ]
    }
   ],
   "source": [
    "# Título\n",
    "titulo = resultados[0].find('a').text\n",
    "print('Título:',titulo)"
   ]
  },
  {
   "cell_type": "code",
   "execution_count": 6,
   "id": "7da26bc0-7641-48fc-ae11-c5ad2b8edbcf",
   "metadata": {},
   "outputs": [
    {
     "name": "stdout",
     "output_type": "stream",
     "text": [
      "Link: https://www-periodicos-capes-gov-br.ezl.periodicos.capes.gov.br/index.php/acervo/buscador.html?task=detalhes&source=&id=W2023931792\n"
     ]
    }
   ],
   "source": [
    "# Link\n",
    "link_ext = resultados[0].find('a')['href']\n",
    "url_site = 'https://www-periodicos-capes-gov-br.ezl.periodicos.capes.gov.br'\n",
    "link = url_site+link_ext\n",
    "\n",
    "print('Link:',link)"
   ]
  },
  {
   "cell_type": "markdown",
   "id": "28f20aba-60dd-411b-9b60-3bea21fd568e",
   "metadata": {},
   "source": [
    "#### Passo 6: Armazenar dados"
   ]
  },
  {
   "cell_type": "code",
   "execution_count": 7,
   "id": "7f4d624f-1328-45c6-a284-bb99fd638516",
   "metadata": {},
   "outputs": [],
   "source": [
    "# Cria uma lista vazia para guardar dados\n",
    "lista_de_titulos = []\n",
    "lista_de_links = []\n",
    "\n",
    "# Cria laço de repetição para filtrar todos os dados\n",
    "for i in resultados:\n",
    "    lista_de_titulos.append(i.find('a').text)\n",
    "    lista_de_links.append(url_site+i.find('a')['href'])"
   ]
  },
  {
   "cell_type": "markdown",
   "id": "38c49211-d52e-4246-a7ba-d69674e70823",
   "metadata": {},
   "source": [
    "#### Passo 7: Visualizar listas"
   ]
  },
  {
   "cell_type": "code",
   "execution_count": 8,
   "id": "de0046ce-7989-42ed-96b9-09cd57f1bbd9",
   "metadata": {},
   "outputs": [],
   "source": [
    "#lista_de_titulos\n",
    "#lista_de_links"
   ]
  },
  {
   "cell_type": "markdown",
   "id": "8dd81308-b254-4e97-96ac-db731f363b35",
   "metadata": {},
   "source": [
    "#### Passo 8: Organizar tabelas e salvar"
   ]
  },
  {
   "cell_type": "code",
   "execution_count": 9,
   "id": "aeb3d21c-dd4a-4db8-8457-e3e17d291a16",
   "metadata": {},
   "outputs": [],
   "source": [
    "# Importar biblioteca Pandas para criar DataFrames\n",
    "import pandas as pd"
   ]
  },
  {
   "cell_type": "code",
   "execution_count": 14,
   "id": "d21e06ef-bfde-4bba-956b-6c09b9c2aa05",
   "metadata": {},
   "outputs": [],
   "source": [
    "# Transforma arrays em DataFrame\n",
    "df = pd.DataFrame({'Títulos': lista_de_titulos, 'Link': lista_de_links})\n",
    "\n",
    "# Salvar DataFrame\n",
    "df.to_excel('Levantamento_da_Literatura.xlsx')"
   ]
  },
  {
   "cell_type": "code",
   "execution_count": 13,
   "id": "d7e9f193-b89f-4b36-a0bd-24a3bf623315",
   "metadata": {},
   "outputs": [
    {
     "data": {
      "text/html": [
       "<div>\n",
       "<style scoped>\n",
       "    .dataframe tbody tr th:only-of-type {\n",
       "        vertical-align: middle;\n",
       "    }\n",
       "\n",
       "    .dataframe tbody tr th {\n",
       "        vertical-align: top;\n",
       "    }\n",
       "\n",
       "    .dataframe thead th {\n",
       "        text-align: right;\n",
       "    }\n",
       "</style>\n",
       "<table border=\"1\" class=\"dataframe\">\n",
       "  <thead>\n",
       "    <tr style=\"text-align: right;\">\n",
       "      <th></th>\n",
       "      <th>Títulos</th>\n",
       "      <th>Link</th>\n",
       "    </tr>\n",
       "  </thead>\n",
       "  <tbody>\n",
       "    <tr>\n",
       "      <th>0</th>\n",
       "      <td>Optometric correlates of Meares-Irlen Syndrome...</td>\n",
       "      <td>https://www-periodicos-capes-gov-br.ezl.period...</td>\n",
       "    </tr>\n",
       "    <tr>\n",
       "      <th>1</th>\n",
       "      <td>The need for optometric investigation in suspe...</td>\n",
       "      <td>https://www-periodicos-capes-gov-br.ezl.period...</td>\n",
       "    </tr>\n",
       "    <tr>\n",
       "      <th>2</th>\n",
       "      <td>A Biochemical Analysis of People with Chronic ...</td>\n",
       "      <td>https://www-periodicos-capes-gov-br.ezl.period...</td>\n",
       "    </tr>\n",
       "    <tr>\n",
       "      <th>3</th>\n",
       "      <td>Irlen Colored Overlays Do not Alleviate Readin...</td>\n",
       "      <td>https://www-periodicos-capes-gov-br.ezl.period...</td>\n",
       "    </tr>\n",
       "    <tr>\n",
       "      <th>4</th>\n",
       "      <td>Functional Magnetic Resonance Imaging Findings...</td>\n",
       "      <td>https://www-periodicos-capes-gov-br.ezl.period...</td>\n",
       "    </tr>\n",
       "  </tbody>\n",
       "</table>\n",
       "</div>"
      ],
      "text/plain": [
       "                                             Títulos  \\\n",
       "0  Optometric correlates of Meares-Irlen Syndrome...   \n",
       "1  The need for optometric investigation in suspe...   \n",
       "2  A Biochemical Analysis of People with Chronic ...   \n",
       "3  Irlen Colored Overlays Do not Alleviate Readin...   \n",
       "4  Functional Magnetic Resonance Imaging Findings...   \n",
       "\n",
       "                                                Link  \n",
       "0  https://www-periodicos-capes-gov-br.ezl.period...  \n",
       "1  https://www-periodicos-capes-gov-br.ezl.period...  \n",
       "2  https://www-periodicos-capes-gov-br.ezl.period...  \n",
       "3  https://www-periodicos-capes-gov-br.ezl.period...  \n",
       "4  https://www-periodicos-capes-gov-br.ezl.period...  "
      ]
     },
     "execution_count": 13,
     "metadata": {},
     "output_type": "execute_result"
    }
   ],
   "source": [
    "# Visualizar DataFrame\n",
    "df.head()"
   ]
  },
  {
   "cell_type": "markdown",
   "id": "43d5d274-da6e-4d80-8162-c4aff31654d2",
   "metadata": {},
   "source": [
    "#### Exercício: Extrair as demais informações abaixo\n",
    "- Link\n",
    "- Título\n",
    "- DOI\n",
    "- ISSN\n",
    "- Autores\n",
    "- Tópico(s)\n",
    "- Resumo\n",
    "- Referência(s)"
   ]
  },
  {
   "cell_type": "markdown",
   "id": "5f20ce8e-ba9d-44b6-a195-b1b54626b3ee",
   "metadata": {},
   "source": [
    "### Desafio: Encontrar uma solução listar todos os resultados para quando houver 2 ou mais páginas de resultado"
   ]
  }
 ],
 "metadata": {
  "kernelspec": {
   "display_name": "Python 3 (ipykernel)",
   "language": "python",
   "name": "python3"
  },
  "language_info": {
   "codemirror_mode": {
    "name": "ipython",
    "version": 3
   },
   "file_extension": ".py",
   "mimetype": "text/x-python",
   "name": "python",
   "nbconvert_exporter": "python",
   "pygments_lexer": "ipython3",
   "version": "3.12.4"
  }
 },
 "nbformat": 4,
 "nbformat_minor": 5
}
