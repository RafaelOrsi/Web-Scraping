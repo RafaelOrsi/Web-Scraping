{
 "cells": [
  {
   "cell_type": "markdown",
   "id": "7240f6b8-11c3-4bfd-9103-f6224d8e8874",
   "metadata": {},
   "source": [
    "## Utilizando Web-Scraping para fazer pesquisa de preço"
   ]
  },
  {
   "cell_type": "markdown",
   "id": "e1888c26-7e2d-45de-b11a-631470a79311",
   "metadata": {},
   "source": [
    "#### Passo 1: instalar bibliotecas"
   ]
  },
  {
   "cell_type": "code",
   "execution_count": null,
   "id": "9284d53d-5191-4bd5-a4f5-52f62a9d8e5c",
   "metadata": {},
   "outputs": [],
   "source": [
    "# Remova o comentário(#) da linha abaixo caso esteja executando este script pela primeira vez\n",
    "#!pip install requests\n",
    "#!pip install beautifulsoup4"
   ]
  },
  {
   "cell_type": "markdown",
   "id": "ac61bf69-5175-4db4-8d63-dcd4e3565549",
   "metadata": {},
   "source": [
    "#### Passo 2: Importar bibliotecas"
   ]
  },
  {
   "cell_type": "code",
   "execution_count": null,
   "id": "85835e40-e721-4d5f-8de7-dfed08a3d98c",
   "metadata": {},
   "outputs": [],
   "source": [
    "import requests\n",
    "from bs4 import BeautifulSoup\n",
    "import pandas as pd"
   ]
  },
  {
   "cell_type": "markdown",
   "id": "83c1cbb8-2bd8-4505-9d27-48919887c2ac",
   "metadata": {},
   "source": [
    "#### Passo 3: Formatar link de busca"
   ]
  },
  {
   "cell_type": "code",
   "execution_count": null,
   "id": "7db42294-69a9-452a-bb41-c9ee18cc5adf",
   "metadata": {
    "scrolled": true
   },
   "outputs": [],
   "source": [
    "# Copie o modelo do link de busca\n",
    "url_de_busca = 'https://lista.mercadolivre.com.br/'\n",
    "\n",
    "# Informe a palvra chave para busca\n",
    "palavra_chave = 'smart tv 70'\n",
    "\n",
    "# Formata a palavra chave conforme modelo do site de busca\n",
    "palavra_chave = palavra_chave.replace(' ','-')\n",
    "\n",
    "# Formata link\n",
    "link = url_de_busca+palavra_chave\n",
    "print(link)"
   ]
  },
  {
   "cell_type": "markdown",
   "id": "1475c782-23b4-4dee-a926-aa6a43681eea",
   "metadata": {},
   "source": [
    "#### Passo 4: Obter informações do link"
   ]
  },
  {
   "cell_type": "code",
   "execution_count": null,
   "id": "2bd8fe8a-bb36-47a9-a399-e7b35aebc49e",
   "metadata": {},
   "outputs": [],
   "source": [
    "# Requisita informações do site\n",
    "response = requests.get(link)\n",
    "# Cria um objeto BeautifulSoup com as informações html\n",
    "soup = BeautifulSoup(response.content, 'html.parser')"
   ]
  },
  {
   "cell_type": "markdown",
   "id": "e2fdf321-03c0-49d3-bdd7-7685c34e0735",
   "metadata": {},
   "source": [
    "#### Passo 5: Encontrar elementos"
   ]
  },
  {
   "cell_type": "code",
   "execution_count": null,
   "id": "760b3156-e7b7-4836-a295-19684b56c789",
   "metadata": {},
   "outputs": [],
   "source": [
    "# Encontra as informações contidas na tag de resultado de busca\n",
    "resultados = soup.find_all('div', {'class': 'ui-search-result__content'})\n",
    "# Conta quantos resultados apareceram na primeira página\n",
    "len(resultados)"
   ]
  },
  {
   "cell_type": "markdown",
   "id": "38c49211-d52e-4246-a7ba-d69674e70823",
   "metadata": {},
   "source": [
    "#### Passo 6: Visualizar links dos produtos"
   ]
  },
  {
   "cell_type": "code",
   "execution_count": null,
   "id": "de0046ce-7989-42ed-96b9-09cd57f1bbd9",
   "metadata": {},
   "outputs": [],
   "source": [
    "# Criar uma lista vazia para guardar dados\n",
    "lista_de_links = []\n",
    "\n",
    "# Criar laço de repetição para filtrar todos os dados\n",
    "for i in resultados:\n",
    "    lista_de_links.append(i.find('a')['href'])\n",
    "\n",
    "lista_de_links"
   ]
  },
  {
   "cell_type": "markdown",
   "id": "0ff4c565-9c25-4093-a728-821cda9ae289",
   "metadata": {},
   "source": [
    "#### Passo 7: Extrarir informações de cada produto listado"
   ]
  },
  {
   "cell_type": "code",
   "execution_count": null,
   "id": "5bdb56e7-cd48-4e43-b210-aad3521e3add",
   "metadata": {},
   "outputs": [],
   "source": [
    "# Requisita informações do link do produto e cria objeto BeautifulSoup\n",
    "produto = BeautifulSoup(requests.get(lista_de_links[0]).content, 'html.parser')"
   ]
  },
  {
   "cell_type": "code",
   "execution_count": null,
   "id": "6d4027e1-30fb-486f-83ac-42b31d6232a2",
   "metadata": {},
   "outputs": [],
   "source": [
    "# Seleciona o título\n",
    "produto.find('h1', attrs={'class': 'ui-pdp-title'}).text"
   ]
  },
  {
   "cell_type": "code",
   "execution_count": null,
   "id": "0feb6ed0-9db1-48fc-a7c3-c158a3d1cbe2",
   "metadata": {},
   "outputs": [],
   "source": [
    "# Seleciona o preço\n",
    "produto.find('span', attrs={'class': 'andes-money-amount__fraction'}).text"
   ]
  },
  {
   "cell_type": "code",
   "execution_count": null,
   "id": "2aebc96e-b4bc-4a32-9fe4-7b4ab9831abe",
   "metadata": {},
   "outputs": [],
   "source": [
    "# Seleciona a quantidade de vendas\n",
    "produto.find('span', attrs={'class': 'ui-pdp-subtitle'}).text"
   ]
  },
  {
   "cell_type": "code",
   "execution_count": null,
   "id": "3a7f6be2-8266-4d58-be12-5cd2d77aa686",
   "metadata": {},
   "outputs": [],
   "source": [
    "# Seleciona a descrição\n",
    "produto.find('p', attrs={'class': 'ui-pdp-description__content'}).text"
   ]
  },
  {
   "cell_type": "markdown",
   "id": "21e7b651-dd7b-48ca-a91a-f62f393105bf",
   "metadata": {},
   "source": [
    "#### Criar tabela para armazenar dados"
   ]
  },
  {
   "cell_type": "code",
   "execution_count": null,
   "id": "bb8b5a8c-69aa-41bd-b3bc-24406da1fc15",
   "metadata": {},
   "outputs": [],
   "source": [
    "# Criar o nome de cada coluna\n",
    "colunas = ['Título','Preço','Quantidade de Vendas','Descrição do produto']\n",
    "\n",
    "# Criar a tabela com as colunas informadas\n",
    "tabela = pd.DataFrame(columns=colunas)\n",
    "\n",
    "# Visualizar tabela\n",
    "tabela"
   ]
  },
  {
   "cell_type": "code",
   "execution_count": null,
   "id": "7583ec57-8f07-4183-b086-481e68cb21b9",
   "metadata": {},
   "outputs": [],
   "source": [
    "# Criar laço de repetição para armazenar as informações de todos os produtos da lista de links\n",
    "\n",
    "id = 0 # Contador\n",
    "for j in lista_de_links:\n",
    "    try:\n",
    "        # Requisita informações do link do produto e cria objeto BeautifulSoup\n",
    "        produto = BeautifulSoup(requests.get(j).content, 'html.parser')\n",
    "    \n",
    "        # Seleciona o título\n",
    "        titulo = produto.find('h1', attrs={'class': 'ui-pdp-title'}).text\n",
    "        # Seleciona o preço\n",
    "        preco = produto.find('span', attrs={'class': 'andes-money-amount__fraction'}).text\n",
    "        # Seleciona a quantidade de vendas\n",
    "        vendidos = produto.find('span', attrs={'class': 'ui-pdp-subtitle'}).text\n",
    "        # Seleciona a descrição\n",
    "        descricao = produto.find('p', attrs={'class': 'ui-pdp-description__content'}).text\n",
    "\n",
    "        # Insere uma nova linha na tabela com as informações do produto\n",
    "        tabela.loc[len(tabela)] = [titulo,preco,vendidos,descricao]\n",
    "\n",
    "    except:\n",
    "        print(f'Houve um problema no link de índice: {id}')\n",
    "    \n",
    "    # Incrementa uma posição no contador\n",
    "    id = id+1"
   ]
  },
  {
   "cell_type": "code",
   "execution_count": null,
   "id": "8680a07d-dd57-478f-a361-6e48539aa582",
   "metadata": {},
   "outputs": [],
   "source": [
    "# Visualizar tabela preenchida\n",
    "tabela"
   ]
  },
  {
   "cell_type": "markdown",
   "id": "51ec2c9b-79da-4f39-9c13-6e4d38ffea17",
   "metadata": {},
   "source": [
    "#### Passo 8: Salvar tabela em uma planilha de Excel"
   ]
  },
  {
   "cell_type": "code",
   "execution_count": null,
   "id": "f9a643df-5d90-467a-876d-1bb207bcb178",
   "metadata": {},
   "outputs": [],
   "source": [
    "# Salvar DataFrame\n",
    "tabela.to_excel('Lista de produtos.xlsx')"
   ]
  },
  {
   "cell_type": "markdown",
   "id": "1100e898-511b-49d0-8a1a-c90c33ade600",
   "metadata": {},
   "source": [
    "#### Extra: formatar dados da tabela"
   ]
  },
  {
   "cell_type": "code",
   "execution_count": null,
   "id": "b1829a20-5bd3-4754-814f-4fb8daf119ae",
   "metadata": {},
   "outputs": [],
   "source": [
    "import re \n",
    "\n",
    "id = 0\n",
    "for i in tabela['Quantidade de Vendas']:\n",
    "    tabela['Quantidade de Vendas'][id] = re.sub('[^0-9]', '', i)\n",
    "    id = id+1\n",
    "tabela"
   ]
  },
  {
   "cell_type": "markdown",
   "id": "f811c6cd-0eb7-483d-83bc-2bb8bde68bbc",
   "metadata": {},
   "source": [
    "### Exercício: Encontrar uma solução para listar todos os resultados quando houver 2 ou mais páginas de resultado"
   ]
  }
 ],
 "metadata": {
  "kernelspec": {
   "display_name": "Python 3 (ipykernel)",
   "language": "python",
   "name": "python3"
  },
  "language_info": {
   "codemirror_mode": {
    "name": "ipython",
    "version": 3
   },
   "file_extension": ".py",
   "mimetype": "text/x-python",
   "name": "python",
   "nbconvert_exporter": "python",
   "pygments_lexer": "ipython3",
   "version": "3.12.4"
  }
 },
 "nbformat": 4,
 "nbformat_minor": 5
}
