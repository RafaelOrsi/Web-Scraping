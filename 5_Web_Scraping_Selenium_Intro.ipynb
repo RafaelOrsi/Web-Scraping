{
 "cells": [
  {
   "cell_type": "markdown",
   "id": "1f5dd1a6-a81d-40dd-b8aa-146a8f761a96",
   "metadata": {},
   "source": [
    "# Web Scraping com Selenium\n",
    "Nesta aula iremos criar uma **automação na internet** utilizando a biblioteca Selenium "
   ]
  },
  {
   "cell_type": "markdown",
   "id": "88408628-a9a6-4948-9361-472a62a95bd8",
   "metadata": {},
   "source": [
    "#### Passo 1: Instalar biblioteca"
   ]
  },
  {
   "cell_type": "code",
   "execution_count": null,
   "id": "c2aa90a2-5dde-4855-a7dc-4250c7dddb12",
   "metadata": {},
   "outputs": [],
   "source": [
    "# Remova o comentário(#) da linha abaixo caso esteja executando este script pela primeira vez\n",
    "#!pip install --upgrade selenium\n",
    "#!pip install webdriver-manager"
   ]
  },
  {
   "cell_type": "markdown",
   "id": "548ca07b-7101-4a26-9986-afe815ae4efd",
   "metadata": {},
   "source": [
    "#### Passo 2: Importar bibliotecas"
   ]
  },
  {
   "cell_type": "code",
   "execution_count": null,
   "id": "59232c20-b5d0-43be-aecd-6f037cf4ca27",
   "metadata": {},
   "outputs": [],
   "source": [
    "import pandas as pd\n",
    "from selenium import webdriver\n",
    "from selenium.webdriver.chrome.service import Service\n",
    "from webdriver_manager.chrome import ChromeDriverManager\n",
    "from selenium.webdriver.common.by import By"
   ]
  },
  {
   "cell_type": "markdown",
   "id": "b4c6e831-f1e7-46e7-a2be-80d64c6c4424",
   "metadata": {},
   "source": [
    "#### Passo 3: Criar navegador"
   ]
  },
  {
   "cell_type": "code",
   "execution_count": null,
   "id": "0d96dc3e-a1d3-4a10-a8e5-cd4270a5ba58",
   "metadata": {},
   "outputs": [],
   "source": [
    "driver = webdriver.Chrome() # Usando método simples\n",
    "#driver = webdriver.Chrome(service=Service(ChromeDriverManager().install())) # Usando o webdriver-manager para atualizar o driver"
   ]
  },
  {
   "cell_type": "markdown",
   "id": "993f5ac6-523a-4b5f-a52f-1d0951dfb3d9",
   "metadata": {},
   "source": [
    "#### Passo 4: Acessar site"
   ]
  },
  {
   "cell_type": "code",
   "execution_count": null,
   "id": "b2cefc4d-6cc5-4666-a6f2-1c48d481bcab",
   "metadata": {},
   "outputs": [],
   "source": [
    "driver.get('https://www.periodicos.capes.gov.br/')"
   ]
  },
  {
   "cell_type": "markdown",
   "id": "0fee1e22-fdce-41d0-ac84-e714c7c76682",
   "metadata": {},
   "source": [
    "#### Passo 5: Fechar navegador"
   ]
  },
  {
   "cell_type": "code",
   "execution_count": null,
   "id": "a9a7c221-2d0c-44aa-aaa3-e6da8c2986b8",
   "metadata": {},
   "outputs": [],
   "source": [
    "driver.quit()"
   ]
  },
  {
   "cell_type": "markdown",
   "id": "b6825206-5b67-4881-b570-2fe337dbfedd",
   "metadata": {},
   "source": [
    "#### Passo 6: Acessar site e obter elementos elementos html\n",
    "\n",
    "Para obter os elementos do site existem basicamente dois comandos\n",
    "- find_element() -> Para acessar apenas um elemento\n",
    "- find_elements() -> Para acessar vários elementos de uma vez\n",
    "\n",
    "A partir destes comandos podemos usar vários métodos de seleção, por:\n",
    "- **tag_name:** Localiza elementos com nome de tag correspondente ao valor de pesquisa\n",
    "- **id:** Localiza elementos com atributo ID correspondente ao valor de pesquisa\n",
    "- **class_name:** Localiza elementos com nome de classe que contém o valor de pesquisa (nomes de classe compostos não são permitidos)\n",
    "- **css_selector:** Localiza elementos que correspondem a um seletor CSS\n",
    "- **name:** Localiza elementos com atributo NAME correspondente ao valor de pesquisa\n",
    "- **xpath:** Localiza elementos que correspondem a uma empressão XPath\n",
    "- **link_text:** Localiza elementos âncora em que o texto visível corresponde ao valor de pesquisa\n",
    "- **partial link text:** Localiza elementos âncora em que o texto visível contém o valor de pesquisa. Se vários elementos forem correspondentes, apenas o primeiro será selecionado"
   ]
  },
  {
   "cell_type": "code",
   "execution_count": null,
   "id": "f758a563-053d-4ce6-8d2f-cef16abb9fe5",
   "metadata": {},
   "outputs": [],
   "source": [
    "# Criar navegador e acessar site\n",
    "driver = webdriver.Chrome()\n",
    "driver.get('https://www.periodicos.capes.gov.br/')"
   ]
  },
  {
   "cell_type": "code",
   "execution_count": null,
   "id": "079ad1d9-1663-43e1-b31c-d8b8c0252079",
   "metadata": {},
   "outputs": [],
   "source": [
    "# Selecionar o campo de busca pelo id\n",
    "campo_busca = driver.find_element(By.ID, 'input-busca-primo')"
   ]
  },
  {
   "cell_type": "code",
   "execution_count": null,
   "id": "36952ed0-25ed-408c-b5da-dde18f9067e9",
   "metadata": {},
   "outputs": [],
   "source": [
    "# Escrever um texto no campo de busca\n",
    "campo_busca.send_keys('Irlen Syndrome')"
   ]
  },
  {
   "cell_type": "code",
   "execution_count": null,
   "id": "9cc5adcd-7d12-442f-a588-7533a82c4cb5",
   "metadata": {},
   "outputs": [],
   "source": [
    "# Clicar em pesquisar \n",
    "driver.find_element(By.ID, 'btn-busca-primo').click()"
   ]
  },
  {
   "cell_type": "code",
   "execution_count": null,
   "id": "07bda7c3-74ec-4ac7-9c4d-8e913c9de6bb",
   "metadata": {},
   "outputs": [],
   "source": [
    "# Fazer todas essas etapas de uma vez só\n",
    "\n",
    "# Criar navegador\n",
    "# Acessar site\n",
    "# Encontrar campo de busca e inserir texto\n",
    "# Clicar em pesquisar"
   ]
  },
  {
   "cell_type": "markdown",
   "id": "ecd68dc7-83d7-4542-b4c2-17d16895a8ad",
   "metadata": {},
   "source": [
    "#### Passo 7: Obter elementos dos resultados de busca"
   ]
  },
  {
   "cell_type": "code",
   "execution_count": null,
   "id": "94b8109f-9078-4653-977c-8b81f32037fe",
   "metadata": {},
   "outputs": [],
   "source": [
    "# Listar todos os resultados\n",
    "resultados = driver.find_elements(By.CLASS_NAME, 'titulo-busca') # Atenção para a função find_elements (no plural)\n",
    "len(resultados)"
   ]
  },
  {
   "cell_type": "code",
   "execution_count": null,
   "id": "d36a4aa1-cc00-42fe-9871-e5797d276630",
   "metadata": {},
   "outputs": [],
   "source": [
    "# Listar o título de todos os resultados\n",
    "lista_de_titulos = []\n",
    "for i in resultados:\n",
    "    lista_de_titulos.append(i.text)\n",
    "    \n",
    "lista_de_titulos"
   ]
  },
  {
   "cell_type": "code",
   "execution_count": null,
   "id": "b2cd61c7-8ab1-4347-a41e-a7f1790391ae",
   "metadata": {},
   "outputs": [],
   "source": [
    "# Listar o link de todos os resultados\n",
    "lista_de_links = []\n",
    "for i in resultados:\n",
    "    lista_de_links.append(i.get_attribute('href'))\n",
    "\n",
    "lista_de_links"
   ]
  },
  {
   "cell_type": "code",
   "execution_count": null,
   "id": "4b89e4d3-7c9f-4561-9843-5180567727e0",
   "metadata": {},
   "outputs": [],
   "source": [
    "# Acessar um dos links\n",
    "driver.get(lista_de_links[0])"
   ]
  },
  {
   "cell_type": "code",
   "execution_count": null,
   "id": "30497e98-c416-412a-a96e-2e55baa66931",
   "metadata": {},
   "outputs": [],
   "source": [
    "# Obter título\n",
    "driver.find_element(By.ID, 'item-titulo').text"
   ]
  },
  {
   "cell_type": "code",
   "execution_count": null,
   "id": "003521c7-46bd-4c97-96b6-54e8da88a98c",
   "metadata": {},
   "outputs": [],
   "source": [
    "# Ano de publicação\n",
    "driver.find_element(By.ID, 'item-ano').text"
   ]
  },
  {
   "cell_type": "code",
   "execution_count": null,
   "id": "398426f3-26eb-4867-9d71-e3cc35855ee8",
   "metadata": {},
   "outputs": [],
   "source": [
    "# Editora\n",
    "driver.find_element(By.ID, 'item-instituicao').text"
   ]
  },
  {
   "cell_type": "code",
   "execution_count": null,
   "id": "ada9eda9-3fcb-4aca-95b6-5186c7221998",
   "metadata": {},
   "outputs": [],
   "source": [
    "# Volume\n",
    "driver.find_element(By.ID, 'item-volume').text"
   ]
  },
  {
   "cell_type": "code",
   "execution_count": null,
   "id": "45fe597b-b08b-4a79-8801-ca82b75a0e38",
   "metadata": {},
   "outputs": [],
   "source": [
    "# Edição\n",
    "driver.find_element(By.ID, 'item-issue').text"
   ]
  },
  {
   "cell_type": "code",
   "execution_count": null,
   "id": "14158503-b2bd-4515-b942-77a2d2c8fc68",
   "metadata": {},
   "outputs": [],
   "source": [
    "# Idioma\n",
    "driver.find_element(By.ID, 'item-language').text"
   ]
  },
  {
   "cell_type": "code",
   "execution_count": null,
   "id": "a1618d4c-ad1b-4ec2-8088-e14cf657906c",
   "metadata": {},
   "outputs": [],
   "source": [
    "# DOI\n",
    "driver.find_element(By.XPATH, '//*[@id=\"content-print\"]/div[1]/p[3]').text"
   ]
  },
  {
   "cell_type": "code",
   "execution_count": null,
   "id": "50567024-2b3d-417d-939b-580e3cd6ee8e",
   "metadata": {},
   "outputs": [],
   "source": [
    "# ISSN\n",
    "driver.find_element(By.XPATH, '//*[@id=\"content-print\"]/div[1]/p[4]').text"
   ]
  },
  {
   "cell_type": "code",
   "execution_count": null,
   "id": "98e52f1c-6b32-4eca-83f2-5d7f80a76290",
   "metadata": {},
   "outputs": [],
   "source": [
    "# Autores\n",
    "driver.find_element(By.ID, 'item-autores').text"
   ]
  },
  {
   "cell_type": "code",
   "execution_count": null,
   "id": "4afe0753-bde8-4f77-b721-68153590f182",
   "metadata": {},
   "outputs": [],
   "source": [
    "# Topico(s)\n",
    "driver.find_elements(By.ID, 'item-autores')[1].text"
   ]
  },
  {
   "cell_type": "code",
   "execution_count": null,
   "id": "bf2eeae2-ae85-45b8-9d14-c51636f4fb88",
   "metadata": {},
   "outputs": [],
   "source": [
    "# Resumo\n",
    "driver.find_element(By.ID, 'item-resumo').text"
   ]
  },
  {
   "cell_type": "markdown",
   "id": "e474d35c-5490-4dc3-b25d-c9767a6e6784",
   "metadata": {},
   "source": [
    "#### Passo 8: Automatizar levantamento da literatura no site da Capes\n",
    "Extrair as informações abaixo de cada um dos links obtidos\n",
    "\n",
    "- Título\n",
    "- Ano\n",
    "- Editora\n",
    "- Volume\n",
    "- Edição\n",
    "- Idioma\n",
    "- DOI\n",
    "- ISSN\n",
    "- Autores\n",
    "- Tópico(s)\n",
    "- Resumo\n",
    "- Link"
   ]
  },
  {
   "cell_type": "markdown",
   "id": "16001838-186a-432e-9764-4a9c8dfd32ed",
   "metadata": {},
   "source": [
    "#### Criar tabela para armazenar dados"
   ]
  },
  {
   "cell_type": "code",
   "execution_count": null,
   "id": "1c828be2-ac1a-4543-80f0-fefc33a37d17",
   "metadata": {},
   "outputs": [],
   "source": [
    "# Criar o nome de cada coluna\n",
    "colunas = ['Título','Ano','Editora','Volume','Edição','Idioma','DOI','ISSN','Autores','Topico(s)','Resumo','Link']\n",
    "\n",
    "# Criar a tabela com as colunas informadas\n",
    "tabela = pd.DataFrame(columns=colunas)\n",
    "\n",
    "# Visualizar tabela\n",
    "tabela"
   ]
  },
  {
   "cell_type": "code",
   "execution_count": null,
   "id": "09986d32-b89f-4c4b-8da9-d8ada0938b28",
   "metadata": {},
   "outputs": [],
   "source": [
    "# Criar laço de repetição para acessar todos os links e extrair as informações dos artigos\n",
    "driver = webdriver.Chrome() # Criar navegador\n",
    "id = 0 # Contador\n",
    "for j in lista_de_links:\n",
    "    try:\n",
    "        # Acessar link\n",
    "        driver.get(j)\n",
    "    \n",
    "        # Título\n",
    "        titulo = driver.find_element(By.ID, 'item-titulo').text\n",
    "        # Ano de publicação\n",
    "        ano = driver.find_element(By.ID, 'item-ano').text\n",
    "        # Editora\n",
    "        editora = driver.find_element(By.ID, 'item-instituicao').text\n",
    "        # Volume\n",
    "        volume = driver.find_element(By.ID, 'item-volume').text\n",
    "        # Edição\n",
    "        edicao = driver.find_element(By.ID, 'item-issue').text\n",
    "        # Idioma\n",
    "        idioma = driver.find_element(By.ID, 'item-language').text\n",
    "        # DOI\n",
    "        doi = driver.find_element(By.XPATH, '//*[@id=\"content-print\"]/div[1]/p[3]').text\n",
    "        # ISSN\n",
    "        issn = driver.find_element(By.XPATH, '//*[@id=\"content-print\"]/div[1]/p[4]').text\n",
    "        # Autores\n",
    "        autores = driver.find_element(By.ID, 'item-autores').text\n",
    "        # Topico(s)\n",
    "        topicos = driver.find_elements(By.ID, 'item-autores')[1].text\n",
    "        # Resumo\n",
    "        resumo = driver.find_element(By.ID, 'item-resumo').text\n",
    "        # Link\n",
    "        link = j        \n",
    "\n",
    "        # Insere uma nova linha na tabela com as informações do produto\n",
    "        tabela.loc[len(tabela)] = [titulo,ano,editora,volume,edicao,idioma,doi,issn,autores,topicos,resumo,link]\n",
    "\n",
    "        print(f'Link: {id} - Raspagem concluída com sucesso')\n",
    "\n",
    "    except:\n",
    "        print(f'Link: {id} - Não foi possível obter os dados solicitados')\n",
    "\n",
    "    # Incrementa uma posição no contador\n",
    "    id = id+1"
   ]
  },
  {
   "cell_type": "markdown",
   "id": "9b61d45a-cbd8-4195-b9c3-ce117f021f92",
   "metadata": {},
   "source": [
    "### Nesta etapa, é possível que tenha ocorrido alguns problemas"
   ]
  },
  {
   "cell_type": "markdown",
   "id": "1bff0c4d-03e8-43de-b4ea-314643d61c22",
   "metadata": {},
   "source": [
    "#### Passo 9: Inspecionar tabela"
   ]
  },
  {
   "cell_type": "code",
   "execution_count": null,
   "id": "dd679509-7e4b-4ab9-9c4a-2147847da0f4",
   "metadata": {},
   "outputs": [],
   "source": [
    "# Quantidade de entradas na tabela\n",
    "len(tabela)"
   ]
  },
  {
   "cell_type": "code",
   "execution_count": null,
   "id": "06d350b8-4b4d-416d-aad0-44a232365e63",
   "metadata": {},
   "outputs": [],
   "source": [
    "# visualizar tabela\n",
    "tabela"
   ]
  },
  {
   "cell_type": "code",
   "execution_count": null,
   "id": "0748d7f1-d2a1-4d2a-b59e-71cd03a26e00",
   "metadata": {},
   "outputs": [],
   "source": [
    "# Criar nova tabela\n",
    "nova_tabela = pd.DataFrame(columns=colunas)"
   ]
  },
  {
   "cell_type": "markdown",
   "id": "60c46187-c8ac-4e69-9226-65c1c6380ec8",
   "metadata": {},
   "source": [
    "#### Passo 10: Tratar erros"
   ]
  },
  {
   "cell_type": "code",
   "execution_count": null,
   "id": "10be6e06-7bc5-4616-b6f2-f141ae86521f",
   "metadata": {},
   "outputs": [],
   "source": [
    "# Criar laço de repetição para acessar todos os links e extrair as informações dos artigos\n",
    "driver = webdriver.Chrome() # Criar navegador\n",
    "id = 0 # Contador\n",
    "for j in lista_de_links:\n",
    "    try:\n",
    "        # Acessar link\n",
    "        driver.get(j)\n",
    "    \n",
    "        # Título\n",
    "        try:\n",
    "            titulo = driver.find_element(By.ID, 'item-titulo').text\n",
    "        except: titulo = None\n",
    "            \n",
    "        # Ano de publicação\n",
    "        try:\n",
    "            ano = driver.find_element(By.ID, 'item-ano').text\n",
    "        except: ano = None\n",
    "        \n",
    "        # Editora\n",
    "        try:\n",
    "            editora = driver.find_element(By.ID, 'item-instituicao').text\n",
    "        except: editora = None\n",
    "            \n",
    "        # Volume\n",
    "        try:\n",
    "            volume = driver.find_element(By.ID, 'item-volume').text\n",
    "        except: volume = None\n",
    "            \n",
    "        # Edição\n",
    "        try:\n",
    "            edicao = driver.find_element(By.ID, 'item-issue').text\n",
    "        except: edicao = None\n",
    "            \n",
    "        # Idioma\n",
    "        try:\n",
    "            idioma = driver.find_element(By.ID, 'item-language').text\n",
    "        except: idioma = None\n",
    "            \n",
    "        # DOI\n",
    "        try:\n",
    "            doi = driver.find_element(By.XPATH, '//*[@id=\"content-print\"]/div[1]/p[3]').text\n",
    "        except: doi = None\n",
    "            \n",
    "        # ISSN\n",
    "        try:\n",
    "            issn = driver.find_element(By.XPATH, '//*[@id=\"content-print\"]/div[1]/p[4]').text\n",
    "        except: issn = None\n",
    "            \n",
    "        # Autores\n",
    "        try:\n",
    "            autores = driver.find_element(By.ID, 'item-autores').text\n",
    "        except: autores = None\n",
    "            \n",
    "        # Topico(s)\n",
    "        try:\n",
    "            topicos = driver.find_elements(By.ID, 'item-autores')[1].text\n",
    "        except: topicos = None\n",
    "            \n",
    "        # Resumo\n",
    "        try:\n",
    "            resumo = driver.find_element(By.ID, 'item-resumo').text\n",
    "        except: resumo = None\n",
    "        # Link\n",
    "        link = j        \n",
    "\n",
    "        # Insere uma nova linha na tabela com as informações do produto\n",
    "        nova_tabela.loc[len(nova_tabela)] = [titulo,ano,editora,volume,edicao,idioma,doi,issn,autores,topicos,resumo,link]\n",
    "\n",
    "        print(f'Link: {id} - Raspagem concluída com sucesso')\n",
    "        \n",
    "    except:\n",
    "        print(f'Link: {id} - Não foi possível obter os dados solicitados')\n",
    "    \n",
    "    # Incrementa uma posição no contador\n",
    "    id = id+1"
   ]
  },
  {
   "cell_type": "markdown",
   "id": "ddc9dc66-4255-44d5-b87c-214ad588cffe",
   "metadata": {},
   "source": [
    "#### Passo 11: Inspecionar tabela corrigida"
   ]
  },
  {
   "cell_type": "code",
   "execution_count": null,
   "id": "0933fa5e-c420-415b-8cc8-861026625d4d",
   "metadata": {},
   "outputs": [],
   "source": [
    "# Quantidade de entradas na tabela\n",
    "len(nova_tabela)"
   ]
  },
  {
   "cell_type": "code",
   "execution_count": null,
   "id": "77df3c2a-a7dc-4685-b448-f41394df399b",
   "metadata": {},
   "outputs": [],
   "source": [
    "# visualizar tabela\n",
    "nova_tabela"
   ]
  },
  {
   "cell_type": "markdown",
   "id": "a64cca1c-156f-4039-9ab4-61a7bc1b3efc",
   "metadata": {},
   "source": [
    "#### Passo: Exportar DataFrame para Excel"
   ]
  },
  {
   "cell_type": "code",
   "execution_count": null,
   "id": "8189747b-3b6d-4b04-abb9-a5a9f6d4b175",
   "metadata": {},
   "outputs": [],
   "source": [
    "nova_tabela.to_excel('Levantamento_da_Literatura_Selenium.xlsx')"
   ]
  }
 ],
 "metadata": {
  "kernelspec": {
   "display_name": "Python 3 (ipykernel)",
   "language": "python",
   "name": "python3"
  },
  "language_info": {
   "codemirror_mode": {
    "name": "ipython",
    "version": 3
   },
   "file_extension": ".py",
   "mimetype": "text/x-python",
   "name": "python",
   "nbconvert_exporter": "python",
   "pygments_lexer": "ipython3",
   "version": "3.12.4"
  }
 },
 "nbformat": 4,
 "nbformat_minor": 5
}
